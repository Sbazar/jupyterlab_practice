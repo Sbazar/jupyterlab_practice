{
 "cells": [
  {
   "cell_type": "markdown",
   "id": "416ce271-a1a4-4412-a505-c534bdfd4b26",
   "metadata": {},
   "source": [
    "# Sara Bazargani\n",
    "### Notebook for assignment 7"
   ]
  },
  {
   "cell_type": "code",
   "execution_count": 6,
   "id": "404a377f-3a30-427c-a8c4-86768dd5fe43",
   "metadata": {},
   "outputs": [
    {
     "name": "stdout",
     "output_type": "stream",
     "text": [
      "5.0\n"
     ]
    }
   ],
   "source": [
    "def compute_mean(my_list):\n",
    "         ave= sum(my_list)/len(my_list)\n",
    "         print (ave)\n",
    "\n",
    "compute_mean([2, 4, 6, 8])"
   ]
  },
  {
   "cell_type": "markdown",
   "id": "e7ca64f3-a4b6-4248-9741-7b3e67aed8d9",
   "metadata": {},
   "source": [
    "The above defined function is a Python function that computes the mean of the values in a list and prints the results. This function uses the following formula to compute the mean.\n",
    "\n",
    "$$ \\bar(x)=\\frac{X_1+X_2+ X_3...+ X_n}{n} = \\frac{1}{n} \\Bigg( \\sum_{i=1} ^ {n} x_i \\Bigg )$$\n"
   ]
  },
  {
   "cell_type": "code",
   "execution_count": null,
   "id": "9dc70e32-02c7-4243-b801-45f5a51ea79a",
   "metadata": {},
   "outputs": [],
   "source": []
  }
 ],
 "metadata": {
  "kernelspec": {
   "display_name": "Python [conda env:anaconda3]",
   "language": "python",
   "name": "conda-env-anaconda3-py"
  },
  "language_info": {
   "codemirror_mode": {
    "name": "ipython",
    "version": 3
   },
   "file_extension": ".py",
   "mimetype": "text/x-python",
   "name": "python",
   "nbconvert_exporter": "python",
   "pygments_lexer": "ipython3",
   "version": "3.9.7"
  }
 },
 "nbformat": 4,
 "nbformat_minor": 5
}
